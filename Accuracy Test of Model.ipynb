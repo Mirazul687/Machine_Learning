{
 "cells": [
  {
   "cell_type": "code",
   "execution_count": null,
   "id": "d22bb59c",
   "metadata": {},
   "outputs": [],
   "source": [
    "# Step 1: Import Libraries\n",
    "from sklearn.ensemble import RandomForestClassifier\n",
    "from sklearn.tree import DecisionTreeClassifier\n",
    "from sklearn.linear_model import LogisticRegression\n",
    "from sklearn.metrics import accuracy_score, classification_report, confusion_matrix, precision_score, recall_score, f1_score, roc_auc_score, roc_curve\n",
    "from sklearn.model_selection import RandomizedSearchCV\n",
    "import matplotlib.pyplot as plt\n",
    "import numpy as np\n",
    "import pandas as pd"
   ]
  },
  {
   "cell_type": "code",
   "execution_count": null,
   "id": "2c9548f4",
   "metadata": {},
   "outputs": [],
   "source": [
    "X_train = pd.read_csv('X_train.csv')\n",
    "y_train = pd.read_csv('y_train.csv')\n",
    "X_test = pd.read_csv('X_test.csv')\n",
    "y_test = pd.read_csv('y_test.csv')"
   ]
  },
  {
   "cell_type": "code",
   "execution_count": null,
   "id": "8cafe1fb",
   "metadata": {},
   "outputs": [],
   "source": [
    "# Step 2: Define Models and Hyperparameters for Tuning\n",
    "# Models dictionary\n",
    "models = {\n",
    "    \"Logistic Regression\": LogisticRegression(),\n",
    "    \"Decision Tree\": DecisionTreeClassifier(),\n",
    "    \"Random Forest\": RandomForestClassifier()\n",
    "}"
   ]
  },
  {
   "cell_type": "code",
   "execution_count": null,
   "id": "4390abdf",
   "metadata": {},
   "outputs": [],
   "source": [
    "# Hyperparameters for Random Forest\n",
    "rf_params = {\n",
    "    'max_depth': [5, 8, 15, None, 10],\n",
    "    'max_features': [5, 7, \"auto\", 8],\n",
    "    'min_samples_split': [2, 8, 15, 20],\n",
    "    'n_estimators': [100, 200, 500, 1000]\n",
    "}"
   ]
  },
  {
   "cell_type": "code",
   "execution_count": null,
   "id": "6fcafea6",
   "metadata": {},
   "outputs": [],
   "source": [
    "# List of models for hyperparameter tuning\n",
    "randomcv_models = [\n",
    "    (\"RF\", RandomForestClassifier(), rf_params),\n",
    "]"
   ]
  },
  {
   "cell_type": "code",
   "execution_count": null,
   "id": "2eb236ed",
   "metadata": {},
   "outputs": [],
   "source": [
    "# Hyperparameter tuning using RandomizedSearchCV\n",
    "model_param = {}\n",
    "for name, model, params in randomcv_models:\n",
    "    random = RandomizedSearchCV(estimator=model,\n",
    "                                param_distributions=params,\n",
    "                                n_iter=100,\n",
    "                                cv=3,\n",
    "                                verbose=2,\n",
    "                                n_jobs=-1)\n",
    "    random.fit(X_train, y_train)\n",
    "    model_param[name] = random.best_params_\n"
   ]
  },
  {
   "cell_type": "code",
   "execution_count": null,
   "id": "af535b0f",
   "metadata": {},
   "outputs": [],
   "source": [
    "# Print best parameters for Random Forest\n",
    "for model_name in model_param:\n",
    "    print(f\"---------------- Best Params for {model_name} -------------------\")\n",
    "    print(model_param[model_name])"
   ]
  },
  {
   "cell_type": "code",
   "execution_count": null,
   "id": "f989a23f",
   "metadata": {},
   "outputs": [],
   "source": [
    "# Step 3: Train Models and Evaluate Performance\n",
    "# Assuming X_train, X_test, y_train, y_test are already defined\n",
    "for i in range(len(list(models.values()))):\n",
    "    model = list(models.values())[i]\n",
    "    model.fit(X_train, y_train)  # Train model\n",
    "\n",
    "    # Training set performance\n",
    "    y_train_pred = model.predict(X_train)\n",
    "    model_train_accuracy = accuracy_score(y_train, y_train_pred)  # Calculate Accuracy\n",
    "    model_train_f1 = f1_score(y_train, y_train_pred, average='weighted')  # Calculate F1 score\n",
    "    model_train_precision = precision_score(y_train, y_train_pred)  # Calculate Precision\n",
    "    model_train_recall = recall_score(y_train, y_train_pred)  # Calculate Recall\n",
    "    model_train_rocauc_score = roc_auc_score(y_train, y_train_pred)  # Calculate ROC AUC\n",
    "\n",
    "    # Test set performance\n",
    "    y_test_pred = model.predict(X_test)\n",
    "    model_test_accuracy = accuracy_score(y_test, y_test_pred)  # Calculate Accuracy\n",
    "    model_test_f1 = f1_score(y_test, y_test_pred, average='weighted')  # Calculate F1 score\n",
    "    model_test_precision = precision_score(y_test, y_test_pred)  # Calculate Precision\n",
    "    model_test_recall = recall_score(y_test, y_test_pred)  # Calculate Recall\n",
    "    model_test_rocauc_score = roc_auc_score(y_test, y_test_pred)  # Calculate ROC AUC\n",
    "\n",
    "    # Print performance metrics\n",
    "    print(list(models.keys())[i])\n",
    "    \n",
    "    print('Model performance for Training set')\n",
    "    print('- Accuracy: {:.4f}'.format(model_train_accuracy))\n",
    "    print('- F1 score: {:.4f}'.format(model_train_f1))\n",
    "    print('- Precision: {:.4f}'.format(model_train_precision))\n",
    "    print('- Recall: {:.4f}'.format(model_train_recall))\n",
    "    print('- Roc AUC Score: {:.4f}'.format(model_train_rocauc_score))\n",
    "\n",
    "    print('----------------------------------')\n",
    "\n",
    "    print('Model performance for Test set')\n",
    "    print('- Accuracy: {:.4f}'.format(model_test_accuracy))\n",
    "    print('- F1 score: {:.4f}'.format(model_test_f1))\n",
    "    print('- Precision: {:.4f}'.format(model_test_precision))\n",
    "    print('- Recall: {:.4f}'.format(model_test_recall))\n",
    "    print('- Roc AUC Score: {:.4f}'.format(model_test_rocauc_score))\n",
    "    print('='*35)\n",
    "    print('\\n')\n"
   ]
  },
  {
   "cell_type": "code",
   "execution_count": null,
   "id": "aa71d596",
   "metadata": {},
   "outputs": [],
   "source": [
    "# Step 4: Plot ROC Curve for Random Forest\n",
    "# Add the models to the list for ROC plot\n",
    "auc_models = [\n",
    "    {\n",
    "        'label': 'Random Forest Classifier',\n",
    "        'model': RandomForestClassifier(n_estimators=1000, min_samples_split=2, max_features=7, max_depth=None),\n",
    "        'auc': 0.8325\n",
    "    },\n",
    "]\n",
    "\n",
    "# Create loop through all models\n",
    "plt.figure()\n",
    "for algo in auc_models:\n",
    "    model = algo['model']  # Select the model\n",
    "    model.fit(X_train, y_train)  # Train the model\n",
    "    # Compute False Positive Rate, True Positive Rate, and ROC AUC\n",
    "    fpr, tpr, thresholds = roc_curve(y_test, model.predict_proba(X_test)[:, 1])\n",
    "    # Plot ROC curve\n",
    "    plt.plot(fpr, tpr, label='%s ROC (area = %0.2f)' % (algo['label'], algo['auc']))\n",
    "\n",
    "# Custom settings for the plot\n",
    "plt.plot([0, 1], [0, 1], 'r--')\n",
    "plt.xlim([0.0, 1.0])\n",
    "plt.ylim([0.0, 1.05])\n",
    "plt.xlabel('1-Specificity (False Positive Rate)')\n",
    "plt.ylabel('Sensitivity (True Positive Rate)')\n",
    "plt.title('Receiver Operating Characteristic')\n",
    "plt.legend(loc=\"lower right\")\n",
    "plt.savefig('roc_curve.png')"
   ]
  }
 ],
 "metadata": {
  "language_info": {
   "name": "python"
  }
 },
 "nbformat": 4,
 "nbformat_minor": 5
}
