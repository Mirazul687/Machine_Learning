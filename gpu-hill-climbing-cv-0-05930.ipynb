{
 "cells": [
  {
   "cell_type": "markdown",
   "metadata": {},
   "source": [
    "# **Good to Test Which Model is the Best**"
   ]
  },
  {
   "cell_type": "markdown",
   "metadata": {},
   "source": [
    "# GPU Hill Climbing\n",
    "This notebook demonstrates how to perform hill climbing. For each model and experiment we run, we save the OOF and Test PREDS files to disk. Then we load all our OOF and all our Test PREDS into this hill climbing notebook. This demonstration notebook only loads 3 models (from public notebooks). To improve this notebook's CV score and LB score. Load all of your 100s of models!\n",
    "\n",
    "Hill climbing builds an ensemble for us. It will start with the strongest single model and then try adding additional models one by one. It will only include models that improve the ensemble's CV score. The algorithm also finds the best weights to add models together.\n",
    "\n",
    "The secret to achieving the best performing ensemble is to build diverse models. Try building models that are different from each other. Then add all the diverse models here.\n",
    "\n",
    "This notebook uses GPU to perform hill climbing to make it run faster than CPU. This is important because when we begin to have 100s or 1000s of models, then hill climbing algorithm needs to compute millions of metrics when searching for optimal weights to combine models. Discussion about this notebook is [here][1]\n",
    "\n",
    "[1]: https://www.kaggle.com/competitions/playground-series-s5e5/discussion/576111"
   ]
  },
  {
   "cell_type": "markdown",
   "metadata": {},
   "source": [
    "# Load Train"
   ]
  },
  {
   "cell_type": "code",
   "execution_count": 29,
   "metadata": {
    "execution": {
     "iopub.execute_input": "2025-05-06T14:41:34.491275Z",
     "iopub.status.busy": "2025-05-06T14:41:34.49067Z",
     "iopub.status.idle": "2025-05-06T14:41:37.536774Z",
     "shell.execute_reply": "2025-05-06T14:41:37.536069Z",
     "shell.execute_reply.started": "2025-05-06T14:41:34.491247Z"
    },
    "trusted": true
   },
   "outputs": [
    {
     "data": {
      "text/html": [
       "<div>\n",
       "<style scoped>\n",
       "    .dataframe tbody tr th:only-of-type {\n",
       "        vertical-align: middle;\n",
       "    }\n",
       "\n",
       "    .dataframe tbody tr th {\n",
       "        vertical-align: top;\n",
       "    }\n",
       "\n",
       "    .dataframe thead th {\n",
       "        text-align: right;\n",
       "    }\n",
       "</style>\n",
       "<table border=\"1\" class=\"dataframe\">\n",
       "  <thead>\n",
       "    <tr style=\"text-align: right;\">\n",
       "      <th></th>\n",
       "      <th>id</th>\n",
       "      <th>Sex</th>\n",
       "      <th>Age</th>\n",
       "      <th>Height</th>\n",
       "      <th>Weight</th>\n",
       "      <th>Duration</th>\n",
       "      <th>Heart_Rate</th>\n",
       "      <th>Body_Temp</th>\n",
       "      <th>Calories</th>\n",
       "    </tr>\n",
       "  </thead>\n",
       "  <tbody>\n",
       "    <tr>\n",
       "      <th>0</th>\n",
       "      <td>0</td>\n",
       "      <td>male</td>\n",
       "      <td>36</td>\n",
       "      <td>189.0</td>\n",
       "      <td>82.0</td>\n",
       "      <td>26.0</td>\n",
       "      <td>101.0</td>\n",
       "      <td>41.0</td>\n",
       "      <td>150.0</td>\n",
       "    </tr>\n",
       "    <tr>\n",
       "      <th>1</th>\n",
       "      <td>1</td>\n",
       "      <td>female</td>\n",
       "      <td>64</td>\n",
       "      <td>163.0</td>\n",
       "      <td>60.0</td>\n",
       "      <td>8.0</td>\n",
       "      <td>85.0</td>\n",
       "      <td>39.7</td>\n",
       "      <td>34.0</td>\n",
       "    </tr>\n",
       "    <tr>\n",
       "      <th>2</th>\n",
       "      <td>2</td>\n",
       "      <td>female</td>\n",
       "      <td>51</td>\n",
       "      <td>161.0</td>\n",
       "      <td>64.0</td>\n",
       "      <td>7.0</td>\n",
       "      <td>84.0</td>\n",
       "      <td>39.8</td>\n",
       "      <td>29.0</td>\n",
       "    </tr>\n",
       "    <tr>\n",
       "      <th>3</th>\n",
       "      <td>3</td>\n",
       "      <td>male</td>\n",
       "      <td>20</td>\n",
       "      <td>192.0</td>\n",
       "      <td>90.0</td>\n",
       "      <td>25.0</td>\n",
       "      <td>105.0</td>\n",
       "      <td>40.7</td>\n",
       "      <td>140.0</td>\n",
       "    </tr>\n",
       "    <tr>\n",
       "      <th>4</th>\n",
       "      <td>4</td>\n",
       "      <td>female</td>\n",
       "      <td>38</td>\n",
       "      <td>166.0</td>\n",
       "      <td>61.0</td>\n",
       "      <td>25.0</td>\n",
       "      <td>102.0</td>\n",
       "      <td>40.6</td>\n",
       "      <td>146.0</td>\n",
       "    </tr>\n",
       "  </tbody>\n",
       "</table>\n",
       "</div>"
      ],
      "text/plain": [
       "   id     Sex  Age  Height  Weight  Duration  Heart_Rate  Body_Temp  Calories\n",
       "0   0    male   36   189.0    82.0      26.0       101.0       41.0     150.0\n",
       "1   1  female   64   163.0    60.0       8.0        85.0       39.7      34.0\n",
       "2   2  female   51   161.0    64.0       7.0        84.0       39.8      29.0\n",
       "3   3    male   20   192.0    90.0      25.0       105.0       40.7     140.0\n",
       "4   4  female   38   166.0    61.0      25.0       102.0       40.6     146.0"
      ]
     },
     "execution_count": 29,
     "metadata": {},
     "output_type": "execute_result"
    }
   ],
   "source": [
    "VER=1\n",
    "\n",
    "import numpy as np, pandas as pd\n",
    "import matplotlib.pyplot as plt\n",
    "pd.set_option('display.max_columns', 500)\n",
    "\n",
    "train = pd.read_csv(\"train.csv\")\n",
    "true = np.log1p( train.Calories.values )\n",
    "train.head()"
   ]
  },
  {
   "cell_type": "markdown",
   "metadata": {},
   "source": [
    "# Load OOF and Test PREDS\n",
    "We load all our OOF and Test PREDs. The code below attempts to detect if your OOF have `log1p` applied or not. It will then apply `log1p` if it is not already applied. The code below assumes that submission.csv files do not have `log1p` applied.\n",
    "\n",
    "In this demonstration notebook, we load 3 models\n",
    "* XGBoost from Yoyololo's public notebook [here][1]\n",
    "* CatBoost from Echo's public notebook [here][2]\n",
    "* NN MLP from my notebook [here][3]\n",
    "\n",
    "Each notebook was ran locally with 5 KFold random seed 42 and I saved OOF and Test PRED files to disk. Then i uploaded to Kaggle dataset [here][4]. \n",
    "\n",
    "[1]: https://www.kaggle.com/code/jiaoyouzhang/calorie-only-xgboost\n",
    "[2]: https://www.kaggle.com/code/nieniejava/onlycatboost-score0-05684\n",
    "[3]: https://www.kaggle.com/code/cdeotte/nn-mlp-starter-cv-0-0608\n",
    "[4]: https://www.kaggle.com/datasets/cdeotte/may2025-playground-oofs-testpreds"
   ]
  },
  {
   "cell_type": "code",
   "execution_count": 30,
   "metadata": {
    "execution": {
     "iopub.execute_input": "2025-05-06T14:41:37.537814Z",
     "iopub.status.busy": "2025-05-06T14:41:37.537534Z",
     "iopub.status.idle": "2025-05-06T14:41:38.398718Z",
     "shell.execute_reply": "2025-05-06T14:41:38.397929Z",
     "shell.execute_reply.started": "2025-05-06T14:41:37.537792Z"
    },
    "trusted": true
   },
   "outputs": [
    {
     "name": "stdout",
     "output_type": "stream",
     "text": [
      "Loading files...\n",
      "=> xgb \n",
      "=> cat \n",
      "=> nn \n"
     ]
    }
   ],
   "source": [
    "import os\n",
    "\n",
    "files = []\n",
    "x_train = []\n",
    "x_test = []\n",
    "PATH = r\"E:\\Jupyter Notebook\\Machine Learning\\playground-series-s5e5\"\n",
    "\n",
    "print(\"Loading files...\")\n",
    "\n",
    "for c in ['xgb','cat','nn']:\n",
    "    print(f\"=> {c} \",end=\"\")\n",
    "    oof_path = os.path.join(PATH, f\"oof_{c}.npy\")\n",
    "    oof = np.load(oof_path)\n",
    "    # IF NOT LOG1P THEN APPLY LOG1P\n",
    "    if oof.mean()>10: oof = np.log1p(oof)\n",
    "    x_train.append(oof)\n",
    "    files.append(f\"oof_{c}\")\n",
    "    sub_path = os.path.join(PATH, f\"submission_{c}.csv\")\n",
    "    df = pd.read_csv(sub_path)\n",
    "    pred = np.log1p( df.Calories.values )\n",
    "    x_test.append(pred)\n",
    "    print()"
   ]
  },
  {
   "cell_type": "code",
   "execution_count": 31,
   "metadata": {
    "execution": {
     "iopub.execute_input": "2025-05-06T14:41:38.400922Z",
     "iopub.status.busy": "2025-05-06T14:41:38.400606Z",
     "iopub.status.idle": "2025-05-06T14:41:38.411109Z",
     "shell.execute_reply": "2025-05-06T14:41:38.410279Z",
     "shell.execute_reply.started": "2025-05-06T14:41:38.400904Z"
    },
    "trusted": true
   },
   "outputs": [
    {
     "name": "stdout",
     "output_type": "stream",
     "text": [
      "Our combined OOF have shape: (750000, 3)\n",
      "Our combined PRED have shape: (250000, 3)\n"
     ]
    }
   ],
   "source": [
    "x_train = np.stack(x_train).T\n",
    "print(\"Our combined OOF have shape:\",x_train.shape)\n",
    "\n",
    "x_test = np.stack(x_test).T\n",
    "print(\"Our combined PRED have shape:\",x_test.shape)"
   ]
  },
  {
   "cell_type": "markdown",
   "metadata": {},
   "source": [
    "# Find Best Single Model\n",
    "Hill climbing begins with our strongest model. So first we will find the strongest model by computing the CV score for each model. The competition metric is RMSLE. We have converted the ground truth with `log1p` and converted all OOF with `log1p`. Therefore below we will just compute the metric RMSE."
   ]
  },
  {
   "cell_type": "code",
   "execution_count": 32,
   "metadata": {
    "execution": {
     "iopub.execute_input": "2025-05-06T14:41:38.412084Z",
     "iopub.status.busy": "2025-05-06T14:41:38.411808Z",
     "iopub.status.idle": "2025-05-06T14:41:38.434201Z",
     "shell.execute_reply": "2025-05-06T14:41:38.433526Z",
     "shell.execute_reply.started": "2025-05-06T14:41:38.412061Z"
    },
    "trusted": true
   },
   "outputs": [
    {
     "name": "stdout",
     "output_type": "stream",
     "text": [
      "RMSE 0.05988 oof_xgb\n",
      "RMSE 0.05982 oof_cat\n",
      "RMSE 0.06096 oof_nn\n",
      "\n",
      "Best single model is oof_cat with RMSE = 0.05982\n"
     ]
    }
   ],
   "source": [
    "def compute_metric_rmse(p):\n",
    "    m = np.sqrt(np.mean( (p-true)**2.0 ) )\n",
    "    return m\n",
    "\n",
    "# COMPUTE METRIC FOR EACH OOF\n",
    "best_score = 40\n",
    "best_index = -1\n",
    "\n",
    "for k,name in enumerate( files ):\n",
    "    s = compute_metric_rmse(x_train[:,k])\n",
    "    if s < best_score:\n",
    "        best_score = s\n",
    "        best_index = k\n",
    "    print(f'RMSE {s:0.5f} {name}') \n",
    "print()\n",
    "print(f'Best single model is {files[best_index]} with RMSE = {best_score:0.5f}')"
   ]
  },
  {
   "cell_type": "markdown",
   "metadata": {},
   "source": [
    "# GPU Metric Computation\n",
    "To perform hill climbing quickly, we will compute RMSE metric in batch form on GPU. This makes a big difference when we begin to have 100s or 1000s of models in our hill climbing search."
   ]
  },
  {
   "cell_type": "code",
   "execution_count": 33,
   "metadata": {
    "execution": {
     "iopub.execute_input": "2025-05-06T14:41:38.43543Z",
     "iopub.status.busy": "2025-05-06T14:41:38.434967Z",
     "iopub.status.idle": "2025-05-06T14:41:40.577503Z",
     "shell.execute_reply": "2025-05-06T14:41:40.576927Z",
     "shell.execute_reply.started": "2025-05-06T14:41:38.435403Z"
    },
    "trusted": true
   },
   "outputs": [],
   "source": [
    "import cupy as cp, gc\n",
    "\n",
    "def multiple_rmse_scores(actual, predicted):\n",
    "    \"\"\"\n",
    "    Computes multiple approximate AUC scores using GPU.\n",
    "    \n",
    "    This function calculates K approximate AUC scores simultaneously for a binary classification \n",
    "    problem. The implementation does not handle ties in predictions correctly, making it an \n",
    "    approximate AUC computation. The function is based on the algorithm outlined in:\n",
    "    https://github.com/benhamner/Metrics/blob/master/R/R/metrics.r\n",
    "\n",
    "    Parameters:\n",
    "    ----------\n",
    "    actual : cupy.ndarray\n",
    "        A 1D GPU array of shape (N,), where N is the number of samples. \n",
    "        Contains binary values (0 or 1) indicating the true labels.\n",
    "    \n",
    "    predicted : cupy.ndarray\n",
    "        A 2D GPU array of shape (N, K), where K is the number of classifiers.\n",
    "        Each column contains predicted scores for the corresponding classifier.\n",
    "\n",
    "    Returns:\n",
    "    -------\n",
    "    cupy.ndarray\n",
    "        A 1D GPU array of shape (K,) containing the AUC scores for each classifier.\n",
    "\n",
    "    \"\"\"\n",
    "    if len(actual.shape)==1: \n",
    "        actual = actual[:,cp.newaxis]\n",
    "    m = cp.sqrt(cp.mean(  (actual-predicted)**2.0,axis=0 ))\n",
    "    return m"
   ]
  },
  {
   "cell_type": "markdown",
   "metadata": {},
   "source": [
    "# Hill Climb\n",
    "We will now try adding more models one by one. When a new model improves our ensemble CV score, we keep it. Otherwise, we do not add it."
   ]
  },
  {
   "cell_type": "code",
   "execution_count": 34,
   "metadata": {
    "execution": {
     "iopub.execute_input": "2025-05-06T14:41:40.578543Z",
     "iopub.status.busy": "2025-05-06T14:41:40.578202Z",
     "iopub.status.idle": "2025-05-06T14:41:43.433015Z",
     "shell.execute_reply": "2025-05-06T14:41:43.432302Z",
     "shell.execute_reply.started": "2025-05-06T14:41:40.578523Z"
    },
    "trusted": true
   },
   "outputs": [
    {
     "name": "stdout",
     "output_type": "stream",
     "text": [
      "0 We begin with best single model RMSE 0.05982 from \"oof_cat\"\n",
      "1 New best RMSE 0.0594047882527759 adding \"oof_xgb\" with weight 0.480\n",
      "2 New best RMSE 0.05931855020112007 adding \"oof_nn\" with weight 0.190\n",
      "=> We reached tolerance 1e-05\n"
     ]
    }
   ],
   "source": [
    "USE_NEGATIVE_WGT = True\n",
    "MAX_MODELS = 1000\n",
    "TOL = 1e-5\n",
    "\n",
    "indices = [best_index]\n",
    "old_best_score = best_score\n",
    "print(f'0 We begin with best single model RMSE {best_score:0.5f} from \"{files[best_index]}\"')\n",
    "\n",
    "# PREPARE/MOVE VARIABLES TO GPU FOR SPEED UP\n",
    "x_train2 = cp.array( x_train ) #GPU\n",
    "best_ensemble = x_train2[:,best_index] # GPU\n",
    "truth = cp.array( true ) # GPU\n",
    "start = -0.50\n",
    "if not USE_NEGATIVE_WGT: start = 0.01\n",
    "ww = cp.arange(start,0.51,0.01) # GPU\n",
    "nn = len(ww)\n",
    "\n",
    "# BEGIN HILL CLIMBING\n",
    "models = [best_index]\n",
    "weights = []\n",
    "metrics = [best_score]\n",
    "\n",
    "for kk in range(1_000_000):\n",
    "\n",
    "    best_score = 40\n",
    "    best_index = -1\n",
    "    best_weight = 0\n",
    "\n",
    "    # TRY ADDING ONE MORE MODEL\n",
    "    for k,ff in enumerate(files):\n",
    "        new_model = x_train2[:,k] # GPU\n",
    "        m1 = cp.repeat(best_ensemble[:, cp.newaxis], nn, axis=1) * (1-ww) # GPU\n",
    "        m2 = cp.repeat(new_model[:, cp.newaxis], nn, axis=1) * ww # GPU\n",
    "        mm = m1+m2 # GPU\n",
    "        new_aucs = multiple_rmse_scores(truth, mm)\n",
    "        new_score = cp.min(new_aucs).item() # GPU -> CPU\n",
    "        if new_score < best_score:\n",
    "            best_score = new_score # CPU\n",
    "            best_index = k # CPU\n",
    "            ii = np.argmin(new_aucs).item() # GPU -> CPU\n",
    "            best_weight = ww[ii].item() # GPU -> CPU\n",
    "            potential_ensemble = mm[:,ii] # GPU\n",
    "    del new_model, m1, m2, mm, new_aucs, new_score\n",
    "    gc.collect()\n",
    "\n",
    "    # STOPPING CRITERIA\n",
    "    indices.append(best_index)\n",
    "    indices = list(np.unique(indices))\n",
    "    if len(indices)>MAX_MODELS:\n",
    "        print(f'=> We reached {MAX_MODELS} models')\n",
    "        indices = indices[:-1]\n",
    "        break\n",
    "    if -1*(best_score - old_best_score) < TOL: \n",
    "        print(f'=> We reached tolerance {TOL}')\n",
    "        break\n",
    "\n",
    "    # RECORD NEW RESULT\n",
    "    print(kk+1,'New best RMSE',best_score,f'adding \"{files[best_index]}\"','with weight',f'{best_weight:0.3f}')\n",
    "    models.append(best_index)\n",
    "    weights.append(best_weight)\n",
    "    metrics.append(best_score)\n",
    "    best_ensemble = potential_ensemble\n",
    "    old_best_score = best_score"
   ]
  },
  {
   "cell_type": "markdown",
   "metadata": {},
   "source": [
    "# Compute Weights\n",
    "The dataframe below shows us what models were selected and what weights are assigned to each model."
   ]
  },
  {
   "cell_type": "code",
   "execution_count": 35,
   "metadata": {
    "execution": {
     "iopub.execute_input": "2025-05-06T14:41:43.434084Z",
     "iopub.status.busy": "2025-05-06T14:41:43.433832Z",
     "iopub.status.idle": "2025-05-06T14:41:43.458125Z",
     "shell.execute_reply": "2025-05-06T14:41:43.457442Z",
     "shell.execute_reply.started": "2025-05-06T14:41:43.434057Z"
    },
    "trusted": true
   },
   "outputs": [
    {
     "data": {
      "text/html": [
       "<div>\n",
       "<style scoped>\n",
       "    .dataframe tbody tr th:only-of-type {\n",
       "        vertical-align: middle;\n",
       "    }\n",
       "\n",
       "    .dataframe tbody tr th {\n",
       "        vertical-align: top;\n",
       "    }\n",
       "\n",
       "    .dataframe thead th {\n",
       "        text-align: right;\n",
       "    }\n",
       "</style>\n",
       "<table border=\"1\" class=\"dataframe\">\n",
       "  <thead>\n",
       "    <tr style=\"text-align: right;\">\n",
       "      <th></th>\n",
       "      <th>model</th>\n",
       "      <th>weight</th>\n",
       "    </tr>\n",
       "  </thead>\n",
       "  <tbody>\n",
       "    <tr>\n",
       "      <th>0</th>\n",
       "      <td>oof_cat</td>\n",
       "      <td>0.4212</td>\n",
       "    </tr>\n",
       "    <tr>\n",
       "      <th>1</th>\n",
       "      <td>oof_xgb</td>\n",
       "      <td>0.3888</td>\n",
       "    </tr>\n",
       "    <tr>\n",
       "      <th>2</th>\n",
       "      <td>oof_nn</td>\n",
       "      <td>0.1900</td>\n",
       "    </tr>\n",
       "  </tbody>\n",
       "</table>\n",
       "</div>"
      ],
      "text/plain": [
       "     model  weight\n",
       "0  oof_cat  0.4212\n",
       "1  oof_xgb  0.3888\n",
       "2   oof_nn  0.1900"
      ]
     },
     "execution_count": 35,
     "metadata": {},
     "output_type": "execute_result"
    }
   ],
   "source": [
    "wgt = np.array([1])\n",
    "for w in weights:\n",
    "    wgt = wgt*(1-w)\n",
    "    wgt = np.concatenate([wgt,np.array([w])])\n",
    "    \n",
    "rows = []\n",
    "t = 0\n",
    "for m,w,s in zip(models,wgt,metrics):\n",
    "    name = files[m]\n",
    "    dd = {}\n",
    "    dd['weight'] = w\n",
    "    dd['model'] = name\n",
    "    rows.append(dd)\n",
    "    t += float( f'{w:.3f}' )\n",
    "\n",
    "# DISPLAY WEIGHT PER MODEL\n",
    "df = pd.DataFrame(rows)\n",
    "df = df.groupby('model').agg('sum').reset_index().sort_values('weight',ascending=False)\n",
    "df = df.reset_index(drop=True)\n",
    "df"
   ]
  },
  {
   "cell_type": "code",
   "execution_count": 36,
   "metadata": {
    "execution": {
     "iopub.execute_input": "2025-05-06T14:41:43.459186Z",
     "iopub.status.busy": "2025-05-06T14:41:43.45887Z",
     "iopub.status.idle": "2025-05-06T14:41:43.49318Z",
     "shell.execute_reply": "2025-05-06T14:41:43.492449Z",
     "shell.execute_reply.started": "2025-05-06T14:41:43.459159Z"
    },
    "trusted": true
   },
   "outputs": [
    {
     "name": "stdout",
     "output_type": "stream",
     "text": [
      "Ensemble weights sum to 1.0\n"
     ]
    }
   ],
   "source": [
    "# SANITY CHECK\n",
    "print('Ensemble weights sum to',df.weight.sum())"
   ]
  },
  {
   "cell_type": "markdown",
   "metadata": {},
   "source": [
    "# Compute Overall CV Score"
   ]
  },
  {
   "cell_type": "code",
   "execution_count": 37,
   "metadata": {
    "execution": {
     "iopub.execute_input": "2025-05-06T14:41:43.49539Z",
     "iopub.status.busy": "2025-05-06T14:41:43.495203Z",
     "iopub.status.idle": "2025-05-06T14:41:43.5309Z",
     "shell.execute_reply": "2025-05-06T14:41:43.530329Z",
     "shell.execute_reply.started": "2025-05-06T14:41:43.495376Z"
    },
    "trusted": true
   },
   "outputs": [
    {
     "name": "stdout",
     "output_type": "stream",
     "text": [
      "Overall Hill climbing RMSE = 0.059319\n"
     ]
    }
   ],
   "source": [
    "# COMBINE OOF PREDITIONS (using weights from hill climbing)\n",
    "x_map = {x:y for x,y in zip(files,np.arange(len(files)))}\n",
    "x_train3 = x_train2.get()\n",
    "ensemble = x_train3[:, x_map[df.model.iloc[0]] ] * df.weight.iloc[0]\n",
    "for k in range(1,len(df)):\n",
    "    ensemble += x_train3[:, x_map[df.model.iloc[k]] ] * df.weight.iloc[k]\n",
    "m = compute_metric_rmse(ensemble)\n",
    "print(f'Overall Hill climbing RMSE = {m:0.6f}')\n",
    "\n",
    "np.save(f'oof_hill_climb_v{VER}',ensemble)"
   ]
  },
  {
   "cell_type": "markdown",
   "metadata": {},
   "source": [
    "# Submission CSV"
   ]
  },
  {
   "cell_type": "code",
   "execution_count": 38,
   "metadata": {
    "execution": {
     "iopub.execute_input": "2025-05-06T14:41:43.531667Z",
     "iopub.status.busy": "2025-05-06T14:41:43.531486Z",
     "iopub.status.idle": "2025-05-06T14:41:43.539852Z",
     "shell.execute_reply": "2025-05-06T14:41:43.538823Z",
     "shell.execute_reply.started": "2025-05-06T14:41:43.531652Z"
    },
    "trusted": true
   },
   "outputs": [],
   "source": [
    "# COMBINE TEST PREDITIONS (using weights from hill climbing)\n",
    "x_map = {x:y for x,y in zip(files,np.arange(len(files)))}\n",
    "pred = x_test[:, x_map[df.model.iloc[0]] ] * df.weight.iloc[0]\n",
    "for k in range(1,len(df)):\n",
    "    pred += x_test[:, x_map[df.model.iloc[k]] ] * df.weight.iloc[k]"
   ]
  },
  {
   "cell_type": "code",
   "execution_count": 39,
   "metadata": {
    "execution": {
     "iopub.execute_input": "2025-05-06T14:41:43.540739Z",
     "iopub.status.busy": "2025-05-06T14:41:43.540483Z",
     "iopub.status.idle": "2025-05-06T14:41:44.148405Z",
     "shell.execute_reply": "2025-05-06T14:41:44.147719Z",
     "shell.execute_reply.started": "2025-05-06T14:41:43.540718Z"
    },
    "trusted": true
   },
   "outputs": [
    {
     "name": "stdout",
     "output_type": "stream",
     "text": [
      "Test shape (250000, 2)\n",
      "Test target mean is 88.15446738733532\n"
     ]
    },
    {
     "data": {
      "text/html": [
       "<div>\n",
       "<style scoped>\n",
       "    .dataframe tbody tr th:only-of-type {\n",
       "        vertical-align: middle;\n",
       "    }\n",
       "\n",
       "    .dataframe tbody tr th {\n",
       "        vertical-align: top;\n",
       "    }\n",
       "\n",
       "    .dataframe thead th {\n",
       "        text-align: right;\n",
       "    }\n",
       "</style>\n",
       "<table border=\"1\" class=\"dataframe\">\n",
       "  <thead>\n",
       "    <tr style=\"text-align: right;\">\n",
       "      <th></th>\n",
       "      <th>id</th>\n",
       "      <th>Calories</th>\n",
       "    </tr>\n",
       "  </thead>\n",
       "  <tbody>\n",
       "    <tr>\n",
       "      <th>0</th>\n",
       "      <td>750000</td>\n",
       "      <td>27.368457</td>\n",
       "    </tr>\n",
       "    <tr>\n",
       "      <th>1</th>\n",
       "      <td>750001</td>\n",
       "      <td>107.690994</td>\n",
       "    </tr>\n",
       "    <tr>\n",
       "      <th>2</th>\n",
       "      <td>750002</td>\n",
       "      <td>87.474597</td>\n",
       "    </tr>\n",
       "    <tr>\n",
       "      <th>3</th>\n",
       "      <td>750003</td>\n",
       "      <td>125.459794</td>\n",
       "    </tr>\n",
       "    <tr>\n",
       "      <th>4</th>\n",
       "      <td>750004</td>\n",
       "      <td>76.133986</td>\n",
       "    </tr>\n",
       "  </tbody>\n",
       "</table>\n",
       "</div>"
      ],
      "text/plain": [
       "       id    Calories\n",
       "0  750000   27.368457\n",
       "1  750001  107.690994\n",
       "2  750002   87.474597\n",
       "3  750003  125.459794\n",
       "4  750004   76.133986"
      ]
     },
     "execution_count": 39,
     "metadata": {},
     "output_type": "execute_result"
    }
   ],
   "source": [
    "# WRITE SUB TO CSV\n",
    "sub = pd.read_csv(\"sample_submission.csv\")\n",
    "\n",
    "# CLIP TO TRAIN MIN AND MAX\n",
    "mn = train.Calories.min(); mx = train.Calories.max()\n",
    "sub.Calories = np.clip( np.expm1( pred ),mn,mx )\n",
    "\n",
    "print(\"Test shape\", sub.shape )\n",
    "print(\"Test target mean is\", sub.Calories.mean())\n",
    "sub.to_csv(f\"submission_hill_climb_v{VER}.csv\",index=False)\n",
    "sub.head()"
   ]
  },
  {
   "cell_type": "markdown",
   "metadata": {},
   "source": [
    "# EDA Test Preds"
   ]
  },
  {
   "cell_type": "code",
   "execution_count": 40,
   "metadata": {
    "execution": {
     "iopub.execute_input": "2025-05-06T14:41:44.149466Z",
     "iopub.status.busy": "2025-05-06T14:41:44.149154Z",
     "iopub.status.idle": "2025-05-06T14:41:44.444038Z",
     "shell.execute_reply": "2025-05-06T14:41:44.443299Z",
     "shell.execute_reply.started": "2025-05-06T14:41:44.149439Z"
    },
    "trusted": true
   },
   "outputs": [
    {
     "data": {
      "image/png": "[encoded data removed]",
      "text/plain": [
       "<Figure size 640x480 with 1 Axes>"
      ]
     },
     "metadata": {},
     "output_type": "display_data"
    }
   ],
   "source": [
    "plt.hist(sub.Calories,bins=100)\n",
    "plt.show()"
   ]
  }
 ],
 "metadata": {
  "kaggle": {
   "accelerator": "nvidiaTeslaT4",
   "dataSources": [
    {
     "databundleVersionId": 11893428,
     "sourceId": 91716,
     "sourceType": "competition"
    },
    {
     "datasetId": 7345142,
     "sourceId": 11702049,
     "sourceType": "datasetVersion"
    }
   ],
   "dockerImageVersionId": 31011,
   "isGpuEnabled": true,
   "isInternetEnabled": false,
   "language": "python",
   "sourceType": "notebook"
  },
  "kernelspec": {
   "display_name": "Python 3",
   "language": "python",
   "name": "python3"
  },
  "language_info": {
   "codemirror_mode": {
    "name": "ipython",
    "version": 3
   },
   "file_extension": ".py",
   "mimetype": "text/x-python",
   "name": "python",
   "nbconvert_exporter": "python",
   "pygments_lexer": "ipython3",
   "version": "3.13.1"
  }
 },
 "nbformat": 4,
 "nbformat_minor": 4
}
